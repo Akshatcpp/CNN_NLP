{
  "nbformat": 4,
  "nbformat_minor": 0,
  "metadata": {
    "colab": {
      "provenance": [],
      "include_colab_link": true
    },
    "kernelspec": {
      "name": "python3",
      "display_name": "Python 3"
    },
    "language_info": {
      "name": "python"
    }
  },
  "cells": [
    {
      "cell_type": "markdown",
      "metadata": {
        "id": "view-in-github",
        "colab_type": "text"
      },
      "source": [
        "<a href=\"https://colab.research.google.com/github/Akshatcpp/CNN_NLP/blob/main/CNN.ipynb\" target=\"_parent\"><img src=\"https://colab.research.google.com/assets/colab-badge.svg\" alt=\"Open In Colab\"/></a>"
      ]
    },
    {
      "cell_type": "markdown",
      "source": [
        "# CNN\n"
      ],
      "metadata": {
        "id": "Cz8FARvUUPs5"
      }
    },
    {
      "cell_type": "code",
      "execution_count": null,
      "metadata": {
        "id": "ithybmuZSx0u"
      },
      "outputs": [],
      "source": [
        "#Load and Display a Color Image\n",
        "import cv2\n",
        "import matplotlib.pyplot as plt\n",
        "\n",
        "# Load a color image (as BGR by OpenCV)\n",
        "img = cv2.imread('HappyFish.jpg')\n",
        "\n",
        "# Convert BGR to RGB for correct color display\n",
        "img_rgb = cv2.cvtColor(img, cv2.COLOR_BGR2RGB)\n",
        "\n",
        "plt.imshow(img_rgb)\n",
        "plt.title('Original Color Image')\n",
        "plt.axis('off')\n",
        "plt.show()\n"
      ]
    },
    {
      "cell_type": "code",
      "source": [
        "#Resize the Image\n",
        "img_resized = cv2.resize(img_rgb, (32, 32))\n",
        "plt.imshow(img_resized)\n",
        "plt.title('Resized Image (32x32)')\n",
        "plt.axis('off')\n",
        "plt.show()"
      ],
      "metadata": {
        "id": "qeKJRgvmWYnN"
      },
      "execution_count": null,
      "outputs": []
    },
    {
      "cell_type": "code",
      "source": [
        "#Convert to Grayscale\n",
        "img_gray = cv2.cvtColor(img_resized, cv2.COLOR_RGB2GRAY)\n",
        "plt.imshow(img_gray, cmap='gray')\n",
        "plt.title('Grayscale Image')\n",
        "plt.axis('off')\n",
        "plt.show()\n"
      ],
      "metadata": {
        "id": "_7YUAXjZW5Z0"
      },
      "execution_count": null,
      "outputs": []
    },
    {
      "cell_type": "code",
      "source": [
        "#Normalize Pixel Values between 0 and 1.\n",
        "\n",
        "img_normalized = img_resized / 255.0\n"
      ],
      "metadata": {
        "id": "QtPdTjOzXSgc"
      },
      "execution_count": null,
      "outputs": []
    },
    {
      "cell_type": "code",
      "source": [
        "print(\"Red channel (5x5):\")\n",
        "print(img_resized[:, :, 0])  # Red\n",
        "\n",
        "print(\"\\nGreen channel (5x5):\")\n",
        "print(img_resized[:, :, 1])  # Green\n",
        "\n",
        "print(\"\\nBlue channel (5x5):\")\n",
        "print(img_resized[:, :, 2])  # Blue"
      ],
      "metadata": {
        "id": "A0bVgAqQXgkW"
      },
      "execution_count": null,
      "outputs": []
    },
    {
      "cell_type": "code",
      "source": [
        "print(\"Normalized Red channel (5x5):\")\n",
        "print(img_normalized[:, :, 0])  # Red channel"
      ],
      "metadata": {
        "id": "Zn2x262jX2-c"
      },
      "execution_count": null,
      "outputs": []
    },
    {
      "cell_type": "code",
      "source": [
        "import matplotlib.pyplot as plt\n",
        "import cv2\n",
        "\n",
        "# Horizontal Flip\n",
        "img_hflip = cv2.flip(img_rgb, 1)  # 1 means horizontal\n",
        "\n",
        "plt.imshow(img_hflip)\n",
        "plt.title(\"Horizontal Flip\")\n",
        "plt.axis('off')\n",
        "plt.show()"
      ],
      "metadata": {
        "id": "bLg4C6_5YHUc"
      },
      "execution_count": null,
      "outputs": []
    },
    {
      "cell_type": "code",
      "source": [
        "# Vertical Flip\n",
        "img_vflip = cv2.flip(img_rgb, 0)  # 0 means vertical\n",
        "\n",
        "plt.imshow(img_vflip)\n",
        "plt.title(\"Vertical Flip\")\n",
        "plt.axis('off')\n",
        "plt.show()"
      ],
      "metadata": {
        "id": "ZVGbsyXPYeqc"
      },
      "execution_count": null,
      "outputs": []
    },
    {
      "cell_type": "code",
      "source": [
        "import numpy as np\n",
        "\n",
        "(h, w) = img_rgb.shape[:2]\n",
        "center = (w // 2, h // 2)\n",
        "M = cv2.getRotationMatrix2D(center, 45, 1.0)  # Rotate 45 degrees\n",
        "img_rot = cv2.warpAffine(img_rgb, M, (w, h))\n",
        "\n",
        "plt.imshow(img_rot)\n",
        "plt.title(\"Rotation (45°)\")\n",
        "plt.axis('off')\n",
        "plt.show()"
      ],
      "metadata": {
        "id": "Et7zjK7aYtUl"
      },
      "execution_count": null,
      "outputs": []
    },
    {
      "cell_type": "code",
      "source": [
        "# Increase brightness\n",
        "img_bright = cv2.convertScaleAbs(img_rgb, alpha=1, beta=50)  # beta increases brightness\n",
        "\n",
        "plt.imshow(img_bright)\n",
        "plt.title(\"Brightness Increased\")\n",
        "plt.axis('off')\n",
        "plt.show()"
      ],
      "metadata": {
        "id": "ljdT55ydZPDk"
      },
      "execution_count": null,
      "outputs": []
    },
    {
      "cell_type": "markdown",
      "source": [
        "Configure New notebook with GPU"
      ],
      "metadata": {
        "id": "2477CGaFP5LM"
      }
    },
    {
      "cell_type": "code",
      "source": [
        "from tensorflow.keras.datasets import mnist\n",
        "(train_images, train_labels), (test_images, test_labels) = mnist.load_data()"
      ],
      "metadata": {
        "id": "QsoKcc4dP8tb",
        "colab": {
          "base_uri": "https://localhost:8080/"
        },
        "outputId": "102d4e2b-8877-4726-d657-934a1e2c47e6"
      },
      "execution_count": null,
      "outputs": [
        {
          "output_type": "stream",
          "name": "stdout",
          "text": [
            "Downloading data from https://storage.googleapis.com/tensorflow/tf-keras-datasets/mnist.npz\n",
            "\u001b[1m11490434/11490434\u001b[0m \u001b[32m━━━━━━━━━━━━━━━━━━━━\u001b[0m\u001b[37m\u001b[0m \u001b[1m0s\u001b[0m 0us/step\n"
          ]
        }
      ]
    },
    {
      "cell_type": "code",
      "source": [
        "train_images.shape"
      ],
      "metadata": {
        "colab": {
          "base_uri": "https://localhost:8080/"
        },
        "id": "93xMhb5tSJ56",
        "outputId": "5c30f34d-75e8-4077-e332-9ad65da5fbed"
      },
      "execution_count": null,
      "outputs": [
        {
          "output_type": "execute_result",
          "data": {
            "text/plain": [
              "(60000, 28, 28)"
            ]
          },
          "metadata": {},
          "execution_count": 2
        }
      ]
    },
    {
      "cell_type": "code",
      "source": [
        "train_labels.shape"
      ],
      "metadata": {
        "colab": {
          "base_uri": "https://localhost:8080/"
        },
        "id": "Bkl0OywXSNFw",
        "outputId": "d1c42d69-9a53-40f7-dd66-d490a65dada8"
      },
      "execution_count": null,
      "outputs": [
        {
          "output_type": "execute_result",
          "data": {
            "text/plain": [
              "(60000,)"
            ]
          },
          "metadata": {},
          "execution_count": 3
        }
      ]
    },
    {
      "cell_type": "code",
      "source": [
        "test_images.shape"
      ],
      "metadata": {
        "colab": {
          "base_uri": "https://localhost:8080/"
        },
        "id": "6WD-xqRhSU_w",
        "outputId": "910e1d12-978d-4654-8001-9467aa417c69"
      },
      "execution_count": null,
      "outputs": [
        {
          "output_type": "execute_result",
          "data": {
            "text/plain": [
              "(10000, 28, 28)"
            ]
          },
          "metadata": {},
          "execution_count": 4
        }
      ]
    },
    {
      "cell_type": "code",
      "source": [
        "#ANN\n",
        "from tensorflow import keras\n",
        "from tensorflow.keras import layers\n",
        "model = keras.Sequential([\n",
        "    layers.Dense(512, activation=\"relu\"),\n",
        "    layers.Dense(10, activation=\"softmax\")\n",
        "])"
      ],
      "metadata": {
        "id": "mYpCqdM2Sly_"
      },
      "execution_count": null,
      "outputs": []
    },
    {
      "cell_type": "code",
      "source": [
        "model.compile(optimizer=\"rmsprop\",\n",
        "              loss=\"sparse_categorical_crossentropy\",\n",
        "              metrics=[\"accuracy\"])"
      ],
      "metadata": {
        "id": "HDGGh_QWTO3G"
      },
      "execution_count": null,
      "outputs": []
    },
    {
      "cell_type": "code",
      "source": [
        "train_images = train_images.reshape((60000, 28 * 28))\n",
        "train_images = train_images.astype(\"float32\") / 255\n",
        "test_images = test_images.reshape((10000, 28 * 28))\n",
        "test_images = test_images.astype(\"float32\") / 255"
      ],
      "metadata": {
        "id": "pGQR2cksTW8U"
      },
      "execution_count": null,
      "outputs": []
    },
    {
      "cell_type": "code",
      "source": [
        "model.fit(train_images, train_labels, epochs=5, batch_size=128)"
      ],
      "metadata": {
        "id": "uNmnNw9dTscE"
      },
      "execution_count": null,
      "outputs": []
    },
    {
      "cell_type": "code",
      "source": [
        "test_digits = test_images[0:10]\n",
        "predictions = model.predict(test_digits)\n",
        "predictions[0]"
      ],
      "metadata": {
        "id": "I9oXMMvhUBYE"
      },
      "execution_count": null,
      "outputs": []
    },
    {
      "cell_type": "code",
      "source": [
        "test_loss, test_acc = model.evaluate(test_images, test_labels)\n",
        "print(f\"test_acc: {test_acc}\")"
      ],
      "metadata": {
        "id": "QujfnUjdUjbm"
      },
      "execution_count": null,
      "outputs": []
    },
    {
      "cell_type": "markdown",
      "source": [
        "CNN"
      ],
      "metadata": {
        "id": "GNvfPjzcWKIh"
      }
    },
    {
      "cell_type": "code",
      "source": [
        "#CNN\n",
        "from tensorflow import keras\n",
        "from tensorflow.keras import layers\n",
        "inputs = keras.Input(shape=(28, 28, 1))#(shape=(img height,width,channels))\n",
        "x = layers.Conv2D(filters=32, kernel_size=3, activation=\"relu\")(inputs)\n",
        "x = layers.MaxPooling2D(pool_size=2)(x)\n",
        "x = layers.Conv2D(filters=64, kernel_size=3, activation=\"relu\")(x)\n",
        "x = layers.MaxPooling2D(pool_size=2)(x)\n",
        "x = layers.Conv2D(filters=128, kernel_size=3, activation=\"relu\")(x)\n",
        "x = layers.Flatten()(x)\n",
        "outputs = layers.Dense(10, activation=\"softmax\")(x)\n",
        "model = keras.Model(inputs=inputs, outputs=outputs)"
      ],
      "metadata": {
        "id": "GuO42A5pWK20"
      },
      "execution_count": null,
      "outputs": []
    },
    {
      "cell_type": "code",
      "source": [
        "model.summary()"
      ],
      "metadata": {
        "colab": {
          "base_uri": "https://localhost:8080/"
        },
        "id": "kEqSbQ_3WQ8u",
        "outputId": "06ea4577-356a-44f2-99fe-27786e4fcdc3"
      },
      "execution_count": null,
      "outputs": [
        {
          "output_type": "error",
          "ename": "NameError",
          "evalue": "name 'model' is not defined",
          "traceback": [
            "\u001b[0;31m---------------------------------------------------------------------------\u001b[0m",
            "\u001b[0;31mNameError\u001b[0m                                 Traceback (most recent call last)",
            "\u001b[0;32m/tmp/ipython-input-1-3470139634.py\u001b[0m in \u001b[0;36m<cell line: 0>\u001b[0;34m()\u001b[0m\n\u001b[0;32m----> 1\u001b[0;31m \u001b[0mmodel\u001b[0m\u001b[0;34m.\u001b[0m\u001b[0msummary\u001b[0m\u001b[0;34m(\u001b[0m\u001b[0;34m)\u001b[0m\u001b[0;34m\u001b[0m\u001b[0;34m\u001b[0m\u001b[0m\n\u001b[0m",
            "\u001b[0;31mNameError\u001b[0m: name 'model' is not defined"
          ]
        }
      ]
    },
    {
      "cell_type": "code",
      "source": [
        "from tensorflow.keras.datasets import mnist\n",
        "\n",
        "(train_images, train_labels), (test_images, test_labels) = mnist.load_data()\n",
        "train_images = train_images.reshape((60000, 28, 28, 1))\n",
        "train_images = train_images.astype(\"float32\") / 255\n",
        "test_images = test_images.reshape((10000, 28, 28, 1))\n",
        "test_images = test_images.astype(\"float32\") / 255\n",
        "model.compile(optimizer=\"rmsprop\",\n",
        "    loss=\"sparse_categorical_crossentropy\",\n",
        "    metrics=[\"accuracy\"])\n",
        "model.fit(train_images, train_labels, epochs=5, batch_size=64)"
      ],
      "metadata": {
        "id": "HB3L_s7jWqyk"
      },
      "execution_count": null,
      "outputs": []
    },
    {
      "cell_type": "code",
      "source": [
        "test_loss, test_acc = model.evaluate(test_images, test_labels)\n",
        "print(f\"Test accuracy: {test_acc:.3f}\")"
      ],
      "metadata": {
        "id": "DgOYUvYhXHXs"
      },
      "execution_count": null,
      "outputs": []
    },
    {
      "cell_type": "markdown",
      "source": [],
      "metadata": {
        "id": "GNU5b1YgX0F1"
      }
    },
    {
      "cell_type": "code",
      "source": [
        "import numpy as np\n",
        "import tensorflow as tf\n",
        "import matplotlib.pyplot as plt\n",
        "\n",
        "# 5x5 single-channel image (values 0-9)\n",
        "img = np.array([\n",
        "    [1, 2, 0, 1, 3],\n",
        "    [4, 1, 1, 0, 2],\n",
        "    [2, 3, 2, 1, 0],\n",
        "    [0, 1, 3, 2, 1],\n",
        "    [1, 0, 2, 4, 2]\n",
        "], dtype=np.float32)\n",
        "\n",
        "plt.imshow(img, cmap='gray')\n",
        "plt.title('Original 5x5 Image')\n",
        "plt.colorbar()\n",
        "plt.show()\n",
        "print(\"Input image:\\n\", img)\n"
      ],
      "metadata": {
        "id": "yCEAvQC5X0dh"
      },
      "execution_count": null,
      "outputs": []
    },
    {
      "cell_type": "code",
      "source": [
        "# 3x3 filter\n",
        "kernel = np.array([\n",
        "    [1, 0, -1],\n",
        "    [1, 0, -1],\n",
        "    [1, 0, -1]\n",
        "], dtype=np.float32)\n",
        "print(\"Kernel (Filter):\\n\", kernel)\n"
      ],
      "metadata": {
        "colab": {
          "base_uri": "https://localhost:8080/"
        },
        "id": "uYEiZPf_YVL_",
        "outputId": "1b04a05d-3383-4d46-ff50-030a697b1780"
      },
      "execution_count": null,
      "outputs": [
        {
          "output_type": "error",
          "ename": "NameError",
          "evalue": "name 'np' is not defined",
          "traceback": [
            "\u001b[0;31m---------------------------------------------------------------------------\u001b[0m",
            "\u001b[0;31mNameError\u001b[0m                                 Traceback (most recent call last)",
            "\u001b[0;32m/tmp/ipython-input-2-3524952572.py\u001b[0m in \u001b[0;36m<cell line: 0>\u001b[0;34m()\u001b[0m\n\u001b[1;32m      1\u001b[0m \u001b[0;31m# 3x3 filter\u001b[0m\u001b[0;34m\u001b[0m\u001b[0;34m\u001b[0m\u001b[0m\n\u001b[0;32m----> 2\u001b[0;31m kernel = np.array([\n\u001b[0m\u001b[1;32m      3\u001b[0m     \u001b[0;34m[\u001b[0m\u001b[0;36m1\u001b[0m\u001b[0;34m,\u001b[0m \u001b[0;36m0\u001b[0m\u001b[0;34m,\u001b[0m \u001b[0;34m-\u001b[0m\u001b[0;36m1\u001b[0m\u001b[0;34m]\u001b[0m\u001b[0;34m,\u001b[0m\u001b[0;34m\u001b[0m\u001b[0;34m\u001b[0m\u001b[0m\n\u001b[1;32m      4\u001b[0m     \u001b[0;34m[\u001b[0m\u001b[0;36m1\u001b[0m\u001b[0;34m,\u001b[0m \u001b[0;36m0\u001b[0m\u001b[0;34m,\u001b[0m \u001b[0;34m-\u001b[0m\u001b[0;36m1\u001b[0m\u001b[0;34m]\u001b[0m\u001b[0;34m,\u001b[0m\u001b[0;34m\u001b[0m\u001b[0;34m\u001b[0m\u001b[0m\n\u001b[1;32m      5\u001b[0m     \u001b[0;34m[\u001b[0m\u001b[0;36m1\u001b[0m\u001b[0;34m,\u001b[0m \u001b[0;36m0\u001b[0m\u001b[0;34m,\u001b[0m \u001b[0;34m-\u001b[0m\u001b[0;36m1\u001b[0m\u001b[0;34m]\u001b[0m\u001b[0;34m\u001b[0m\u001b[0;34m\u001b[0m\u001b[0m\n",
            "\u001b[0;31mNameError\u001b[0m: name 'np' is not defined"
          ]
        }
      ]
    },
    {
      "cell_type": "markdown",
      "source": [
        "Face Recognition Application"
      ],
      "metadata": {
        "id": "lujdp1yDd_O-"
      }
    },
    {
      "cell_type": "code",
      "source": [
        "!unzip database_face.zip"
      ],
      "metadata": {
        "id": "d1nrwesmeBcZ"
      },
      "execution_count": null,
      "outputs": []
    },
    {
      "cell_type": "code",
      "source": [
        "import os\n",
        "import cv2\n",
        "import numpy as np\n",
        "from sklearn.decomposition import PCA\n",
        "import matplotlib.pyplot as plt"
      ],
      "metadata": {
        "id": "LmAzsHQgfJzg"
      },
      "execution_count": null,
      "outputs": []
    },
    {
      "cell_type": "code",
      "source": [
        "def load_dataset(data_dir, img_size=(100, 100)):\n",
        "    \"\"\"\n",
        "    Loads images from subdirectories of data_dir where each subdirectory (e.g. 'Per_1', 'Per_2', 'Per_3')\n",
        "    represents a class. Each image is converted to grayscale, resized, and flattened.\n",
        "\n",
        "    Args:\n",
        "        data_dir (str): Path to the dataset directory.\n",
        "        img_size (tuple): Target image size (width, height) for resizing.\n",
        "\n",
        "    Returns:\n",
        "        X (np.ndarray): Array of flattened image vectors.\n",
        "        y (np.ndarray): Array of corresponding class labels.\n",
        "    \"\"\"\n",
        "    X = []\n",
        "    y = []\n",
        "    # Loop over each subfolder (class)\n",
        "    for label in os.listdir(data_dir):\n",
        "        class_dir = os.path.join(data_dir, label)\n",
        "        if os.path.isdir(class_dir) and label.startswith(\"Per\"):\n",
        "            print(f\"Loading images from class: {label}\")\n",
        "            for file in os.listdir(class_dir):\n",
        "                file_path = os.path.join(class_dir, file)\n",
        "                # Read the image using OpenCV\n",
        "                img = cv2.imread(file_path)\n",
        "                if img is None:\n",
        "                    continue  # Skip files that cannot be read\n",
        "                # Convert to grayscale\n",
        "                gray = cv2.cvtColor(img, cv2.COLOR_BGR2GRAY)\n",
        "                # Resize to a consistent size (adjust as needed)\n",
        "                resized = cv2.resize(gray, img_size)\n",
        "                # Flatten the image to create a feature vector\n",
        "                X.append(resized.flatten())\n",
        "                y.append(label)\n",
        "    X = np.array(X)\n",
        "    y = np.array(y)\n",
        "    return X, y\n"
      ],
      "metadata": {
        "id": "QSt-t7mfgNvf"
      },
      "execution_count": null,
      "outputs": []
    },
    {
      "cell_type": "code",
      "source": [
        "def load_test_images(test_dir, img_size=(100, 100)):\n",
        "    \"\"\"\n",
        "    Loads test images from the specified test folder.\n",
        "    Each image is converted to grayscale, resized, and flattened.\n",
        "\n",
        "    Args:\n",
        "        test_dir (str): Path to the test images directory.\n",
        "        img_size (tuple): Target image size for resizing.\n",
        "\n",
        "    Returns:\n",
        "        X_test (np.ndarray): Array of flattened test image vectors.\n",
        "        image_names (list): List of test image file names.\n",
        "    \"\"\"\n",
        "    X_test = []\n",
        "    image_names = []\n",
        "    for file in os.listdir(test_dir):\n",
        "        file_path = os.path.join(test_dir, file)\n",
        "        img = cv2.imread(file_path)\n",
        "        if img is None:\n",
        "            continue\n",
        "        gray = cv2.cvtColor(img, cv2.COLOR_BGR2GRAY)\n",
        "        resized = cv2.resize(gray, img_size)\n",
        "        X_test.append(resized.flatten())\n",
        "        image_names.append(file)\n",
        "    X_test = np.array(X_test)\n",
        "    return X_test, image_names"
      ],
      "metadata": {
        "id": "SfvBFkLIgVeG"
      },
      "execution_count": null,
      "outputs": []
    },
    {
      "cell_type": "code",
      "source": [
        "import os\n",
        "import numpy as np\n",
        "import pandas as pd\n",
        "from sklearn.decomposition import PCA\n",
        "import matplotlib.pyplot as plt\n",
        "\n",
        "# Define the paths (adjust these paths if necessary)\n",
        "data_dir = \"./database_face\"  # This directory should contain Per_1, Per_2, Per_3 folders.\n",
        "test_dir = os.path.join(data_dir, \"test\")\n",
        "\n",
        "# Define the target image size (width, height)\n",
        "img_size = (100, 100)  # Adjust based on your dataset\n",
        "\n",
        "# Load training images and their labels\n",
        "X, y = load_dataset(data_dir, img_size)\n",
        "\n",
        "# Convert X and y into a DataFrame\n",
        "df_X = pd.DataFrame(X)\n",
        "df_y = pd.DataFrame(y, columns=[\"Label\"])\n",
        "\n",
        "# Display DataFrames in Jupyter Notebook\n",
        "from IPython.display import display\n",
        "display(df_X)\n",
        "display(df_y)"
      ],
      "metadata": {
        "id": "dDuapMeWgwRP"
      },
      "execution_count": null,
      "outputs": []
    },
    {
      "cell_type": "code",
      "source": [
        "# Apply PCA for feature extraction.\n",
        "n_components = 5\n",
        "pca = PCA(n_components=n_components, whiten=True)\n",
        "X_pca = pca.fit_transform(X)\n",
        "\n",
        "# Convert PCA-transformed data into DataFrame\n",
        "df_X_pca = pd.DataFrame(X_pca)\n",
        "display(df_X_pca)"
      ],
      "metadata": {
        "id": "d8XCtuwahmTI"
      },
      "execution_count": null,
      "outputs": []
    },
    {
      "cell_type": "code",
      "source": [
        "# Load test images\n",
        "X_test, image_names = load_test_images(test_dir, img_size)\n",
        "\n",
        "# Convert test data into DataFrame\n",
        "df_X_test = pd.DataFrame(X_test)\n",
        "display(df_X_test)\n",
        "\n",
        "# Transform test images using the PCA model trained on the training images\n",
        "X_test_pca = pca.transform(X_test)\n",
        "\n",
        "# Convert test PCA data into DataFrame\n",
        "df_X_test_pca = pd.DataFrame(X_test_pca)\n",
        "display(df_X_test_pca)\n"
      ],
      "metadata": {
        "id": "NdsLkMewhzKn"
      },
      "execution_count": null,
      "outputs": []
    },
    {
      "cell_type": "code",
      "source": [
        "from sklearn.neighbors import KNeighborsClassifier\n",
        "from google.colab import files  # For uploading images\n",
        "\n",
        "# Train KNN classifier on PCA-transformed training data\n",
        "knn = KNeighborsClassifier(n_neighbors=3)  # Adjust k as needed\n",
        "knn.fit(X_pca, y)\n",
        "\n",
        "# Function to load and preprocess a single test image\n",
        "def load_image(image_path, img_size):\n",
        "    \"\"\"Load, resize, and flatten the image into a 1D array.\"\"\"\n",
        "    img = cv2.imread(image_path, cv2.IMREAD_GRAYSCALE)  # Load in grayscale\n",
        "    img = cv2.resize(img, img_size)  # Resize to match training size\n",
        "    return img.flatten(), img  # Return flattened image and original image\n",
        "\n",
        "# Ask user to upload an image for classification\n",
        "print(\"Please upload an image to classify:\")\n",
        "uploaded = files.upload()\n",
        "\n",
        "# Get the uploaded file name\n",
        "image_path = list(uploaded.keys())[0]\n",
        "\n",
        "# Load and process the input image\n",
        "test_image_flattened, test_image_original = load_image(image_path, img_size)\n",
        "test_image_pca = pca.transform([test_image_flattened])\n",
        "\n",
        "# Predict the class\n",
        "predicted_class = knn.predict(test_image_pca)[0]\n",
        "\n",
        "# Display the uploaded image with predicted class\n",
        "plt.figure(figsize=(5, 5))\n",
        "plt.imshow(test_image_original, cmap='gray')\n",
        "plt.title(f\"Predicted Class: {predicted_class}\")\n",
        "plt.axis(\"off\")\n",
        "plt.show()"
      ],
      "metadata": {
        "id": "8T2eDvxqiTT2"
      },
      "execution_count": null,
      "outputs": []
    }
  ]
}